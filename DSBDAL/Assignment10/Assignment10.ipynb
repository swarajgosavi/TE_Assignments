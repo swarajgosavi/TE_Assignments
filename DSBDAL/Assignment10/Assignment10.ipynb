{
 "cells": [
  {
   "cell_type": "markdown",
   "metadata": {},
   "source": [
    "# Assignment 10\n",
    "\n",
    "## Data Analytics III\n",
    "\n",
    "### Problem Statement\n",
    "\n",
    "1. Implement Simple Naive Bayes classification algorithm using Python/R on iris.csv dataset.\n",
    "2. Compute Confusion matrix to find TP, FP, TN, FN, Accuracy, Error rate, Precision, Recall on the given dataset"
   ]
  },
  {
   "cell_type": "markdown",
   "metadata": {},
   "source": [
    "### Step 1 - Importing libraries"
   ]
  },
  {
   "cell_type": "code",
   "execution_count": 1,
   "metadata": {},
   "outputs": [],
   "source": [
    "import pandas as pd\n",
    "import numpy as np\n",
    "import matplotlib.pyplot as plt\n",
    "import seaborn as sns"
   ]
  },
  {
   "cell_type": "markdown",
   "metadata": {},
   "source": [
    "### Step 2 - Importing Dataset"
   ]
  },
  {
   "cell_type": "code",
   "execution_count": 2,
   "metadata": {},
   "outputs": [
    {
     "data": {
      "text/html": [
       "<div>\n",
       "<style scoped>\n",
       "    .dataframe tbody tr th:only-of-type {\n",
       "        vertical-align: middle;\n",
       "    }\n",
       "\n",
       "    .dataframe tbody tr th {\n",
       "        vertical-align: top;\n",
       "    }\n",
       "\n",
       "    .dataframe thead th {\n",
       "        text-align: right;\n",
       "    }\n",
       "</style>\n",
       "<table border=\"1\" class=\"dataframe\">\n",
       "  <thead>\n",
       "    <tr style=\"text-align: right;\">\n",
       "      <th></th>\n",
       "      <th>Id</th>\n",
       "      <th>SepalLengthCm</th>\n",
       "      <th>SepalWidthCm</th>\n",
       "      <th>PetalLengthCm</th>\n",
       "      <th>PetalWidthCm</th>\n",
       "      <th>Species</th>\n",
       "    </tr>\n",
       "  </thead>\n",
       "  <tbody>\n",
       "    <tr>\n",
       "      <th>0</th>\n",
       "      <td>1</td>\n",
       "      <td>5.1</td>\n",
       "      <td>3.5</td>\n",
       "      <td>1.4</td>\n",
       "      <td>0.2</td>\n",
       "      <td>Iris-setosa</td>\n",
       "    </tr>\n",
       "    <tr>\n",
       "      <th>1</th>\n",
       "      <td>2</td>\n",
       "      <td>4.9</td>\n",
       "      <td>3.0</td>\n",
       "      <td>1.4</td>\n",
       "      <td>0.2</td>\n",
       "      <td>Iris-setosa</td>\n",
       "    </tr>\n",
       "    <tr>\n",
       "      <th>2</th>\n",
       "      <td>3</td>\n",
       "      <td>4.7</td>\n",
       "      <td>3.2</td>\n",
       "      <td>1.3</td>\n",
       "      <td>0.2</td>\n",
       "      <td>Iris-setosa</td>\n",
       "    </tr>\n",
       "    <tr>\n",
       "      <th>3</th>\n",
       "      <td>4</td>\n",
       "      <td>4.6</td>\n",
       "      <td>3.1</td>\n",
       "      <td>1.5</td>\n",
       "      <td>0.2</td>\n",
       "      <td>Iris-setosa</td>\n",
       "    </tr>\n",
       "    <tr>\n",
       "      <th>4</th>\n",
       "      <td>5</td>\n",
       "      <td>5.0</td>\n",
       "      <td>3.6</td>\n",
       "      <td>1.4</td>\n",
       "      <td>0.2</td>\n",
       "      <td>Iris-setosa</td>\n",
       "    </tr>\n",
       "  </tbody>\n",
       "</table>\n",
       "</div>"
      ],
      "text/plain": [
       "   Id  SepalLengthCm  SepalWidthCm  PetalLengthCm  PetalWidthCm      Species\n",
       "0   1            5.1           3.5            1.4           0.2  Iris-setosa\n",
       "1   2            4.9           3.0            1.4           0.2  Iris-setosa\n",
       "2   3            4.7           3.2            1.3           0.2  Iris-setosa\n",
       "3   4            4.6           3.1            1.5           0.2  Iris-setosa\n",
       "4   5            5.0           3.6            1.4           0.2  Iris-setosa"
      ]
     },
     "execution_count": 2,
     "metadata": {},
     "output_type": "execute_result"
    }
   ],
   "source": [
    "data = pd.read_csv('Iris.csv')\n",
    "data.head()"
   ]
  },
  {
   "cell_type": "code",
   "execution_count": 3,
   "metadata": {},
   "outputs": [
    {
     "name": "stdout",
     "output_type": "stream",
     "text": [
      "<class 'pandas.core.frame.DataFrame'>\n",
      "RangeIndex: 150 entries, 0 to 149\n",
      "Data columns (total 6 columns):\n",
      " #   Column         Non-Null Count  Dtype  \n",
      "---  ------         --------------  -----  \n",
      " 0   Id             150 non-null    int64  \n",
      " 1   SepalLengthCm  150 non-null    float64\n",
      " 2   SepalWidthCm   150 non-null    float64\n",
      " 3   PetalLengthCm  150 non-null    float64\n",
      " 4   PetalWidthCm   150 non-null    float64\n",
      " 5   Species        150 non-null    object \n",
      "dtypes: float64(4), int64(1), object(1)\n",
      "memory usage: 7.2+ KB\n"
     ]
    }
   ],
   "source": [
    "data.info()"
   ]
  },
  {
   "cell_type": "code",
   "execution_count": 4,
   "metadata": {},
   "outputs": [
    {
     "data": {
      "text/html": [
       "<div>\n",
       "<style scoped>\n",
       "    .dataframe tbody tr th:only-of-type {\n",
       "        vertical-align: middle;\n",
       "    }\n",
       "\n",
       "    .dataframe tbody tr th {\n",
       "        vertical-align: top;\n",
       "    }\n",
       "\n",
       "    .dataframe thead th {\n",
       "        text-align: right;\n",
       "    }\n",
       "</style>\n",
       "<table border=\"1\" class=\"dataframe\">\n",
       "  <thead>\n",
       "    <tr style=\"text-align: right;\">\n",
       "      <th></th>\n",
       "      <th>Id</th>\n",
       "      <th>SepalLengthCm</th>\n",
       "      <th>SepalWidthCm</th>\n",
       "      <th>PetalLengthCm</th>\n",
       "      <th>PetalWidthCm</th>\n",
       "    </tr>\n",
       "  </thead>\n",
       "  <tbody>\n",
       "    <tr>\n",
       "      <th>count</th>\n",
       "      <td>150.000000</td>\n",
       "      <td>150.000000</td>\n",
       "      <td>150.000000</td>\n",
       "      <td>150.000000</td>\n",
       "      <td>150.000000</td>\n",
       "    </tr>\n",
       "    <tr>\n",
       "      <th>mean</th>\n",
       "      <td>75.500000</td>\n",
       "      <td>5.843333</td>\n",
       "      <td>3.054000</td>\n",
       "      <td>3.758667</td>\n",
       "      <td>1.198667</td>\n",
       "    </tr>\n",
       "    <tr>\n",
       "      <th>std</th>\n",
       "      <td>43.445368</td>\n",
       "      <td>0.828066</td>\n",
       "      <td>0.433594</td>\n",
       "      <td>1.764420</td>\n",
       "      <td>0.763161</td>\n",
       "    </tr>\n",
       "    <tr>\n",
       "      <th>min</th>\n",
       "      <td>1.000000</td>\n",
       "      <td>4.300000</td>\n",
       "      <td>2.000000</td>\n",
       "      <td>1.000000</td>\n",
       "      <td>0.100000</td>\n",
       "    </tr>\n",
       "    <tr>\n",
       "      <th>25%</th>\n",
       "      <td>38.250000</td>\n",
       "      <td>5.100000</td>\n",
       "      <td>2.800000</td>\n",
       "      <td>1.600000</td>\n",
       "      <td>0.300000</td>\n",
       "    </tr>\n",
       "    <tr>\n",
       "      <th>50%</th>\n",
       "      <td>75.500000</td>\n",
       "      <td>5.800000</td>\n",
       "      <td>3.000000</td>\n",
       "      <td>4.350000</td>\n",
       "      <td>1.300000</td>\n",
       "    </tr>\n",
       "    <tr>\n",
       "      <th>75%</th>\n",
       "      <td>112.750000</td>\n",
       "      <td>6.400000</td>\n",
       "      <td>3.300000</td>\n",
       "      <td>5.100000</td>\n",
       "      <td>1.800000</td>\n",
       "    </tr>\n",
       "    <tr>\n",
       "      <th>max</th>\n",
       "      <td>150.000000</td>\n",
       "      <td>7.900000</td>\n",
       "      <td>4.400000</td>\n",
       "      <td>6.900000</td>\n",
       "      <td>2.500000</td>\n",
       "    </tr>\n",
       "  </tbody>\n",
       "</table>\n",
       "</div>"
      ],
      "text/plain": [
       "               Id  SepalLengthCm  SepalWidthCm  PetalLengthCm  PetalWidthCm\n",
       "count  150.000000     150.000000    150.000000     150.000000    150.000000\n",
       "mean    75.500000       5.843333      3.054000       3.758667      1.198667\n",
       "std     43.445368       0.828066      0.433594       1.764420      0.763161\n",
       "min      1.000000       4.300000      2.000000       1.000000      0.100000\n",
       "25%     38.250000       5.100000      2.800000       1.600000      0.300000\n",
       "50%     75.500000       5.800000      3.000000       4.350000      1.300000\n",
       "75%    112.750000       6.400000      3.300000       5.100000      1.800000\n",
       "max    150.000000       7.900000      4.400000       6.900000      2.500000"
      ]
     },
     "execution_count": 4,
     "metadata": {},
     "output_type": "execute_result"
    }
   ],
   "source": [
    "data.describe()"
   ]
  },
  {
   "cell_type": "code",
   "execution_count": 5,
   "metadata": {},
   "outputs": [
    {
     "data": {
      "text/plain": [
       "Id               0\n",
       "SepalLengthCm    0\n",
       "SepalWidthCm     0\n",
       "PetalLengthCm    0\n",
       "PetalWidthCm     0\n",
       "Species          0\n",
       "dtype: int64"
      ]
     },
     "execution_count": 5,
     "metadata": {},
     "output_type": "execute_result"
    }
   ],
   "source": [
    "data.isnull().sum()"
   ]
  },
  {
   "cell_type": "code",
   "execution_count": 6,
   "metadata": {},
   "outputs": [
    {
     "data": {
      "text/plain": [
       "Iris-setosa        50\n",
       "Iris-versicolor    50\n",
       "Iris-virginica     50\n",
       "Name: Species, dtype: int64"
      ]
     },
     "execution_count": 6,
     "metadata": {},
     "output_type": "execute_result"
    }
   ],
   "source": [
    "data['Species'].value_counts()"
   ]
  },
  {
   "cell_type": "code",
   "execution_count": 7,
   "metadata": {},
   "outputs": [
    {
     "data": {
      "text/plain": [
       "<AxesSubplot:>"
      ]
     },
     "execution_count": 7,
     "metadata": {},
     "output_type": "execute_result"
    },
    {
     "data": {
      "image/png": "[encoded data removed]",
      "text/plain": [
       "<Figure size 432x288 with 1 Axes>"
      ]
     },
     "metadata": {
      "needs_background": "light"
     },
     "output_type": "display_data"
    }
   ],
   "source": [
    "data['Species'].value_counts().plot(kind = 'bar')"
   ]
  },
  {
   "cell_type": "code",
   "execution_count": 8,
   "metadata": {},
   "outputs": [
    {
     "data": {
      "text/plain": [
       "<AxesSubplot:>"
      ]
     },
     "execution_count": 8,
     "metadata": {},
     "output_type": "execute_result"
    },
    {
     "data": {
      "image/png": "[encoded data removed]",
      "text/plain": [
       "<Figure size 432x288 with 1 Axes>"
      ]
     },
     "metadata": {
      "needs_background": "light"
     },
     "output_type": "display_data"
    }
   ],
   "source": [
    "data.boxplot()"
   ]
  },
  {
   "cell_type": "code",
   "execution_count": 9,
   "metadata": {},
   "outputs": [],
   "source": [
    "# Splitting into independent and dependent variables\n",
    "X = data.iloc[:,:4].values\n",
    "y = data['Species'].values"
   ]
  },
  {
   "cell_type": "code",
   "execution_count": 10,
   "metadata": {},
   "outputs": [
    {
     "data": {
      "text/plain": [
       "array([[  1. ,   5.1,   3.5,   1.4],\n",
       "       [  2. ,   4.9,   3. ,   1.4],\n",
       "       [  3. ,   4.7,   3.2,   1.3],\n",
       "       [  4. ,   4.6,   3.1,   1.5],\n",
       "       [  5. ,   5. ,   3.6,   1.4],\n",
       "       [  6. ,   5.4,   3.9,   1.7],\n",
       "       [  7. ,   4.6,   3.4,   1.4],\n",
       "       [  8. ,   5. ,   3.4,   1.5],\n",
       "       [  9. ,   4.4,   2.9,   1.4],\n",
       "       [ 10. ,   4.9,   3.1,   1.5],\n",
       "       [ 11. ,   5.4,   3.7,   1.5],\n",
       "       [ 12. ,   4.8,   3.4,   1.6],\n",
       "       [ 13. ,   4.8,   3. ,   1.4],\n",
       "       [ 14. ,   4.3,   3. ,   1.1],\n",
       "       [ 15. ,   5.8,   4. ,   1.2],\n",
       "       [ 16. ,   5.7,   4.4,   1.5],\n",
       "       [ 17. ,   5.4,   3.9,   1.3],\n",
       "       [ 18. ,   5.1,   3.5,   1.4],\n",
       "       [ 19. ,   5.7,   3.8,   1.7],\n",
       "       [ 20. ,   5.1,   3.8,   1.5],\n",
       "       [ 21. ,   5.4,   3.4,   1.7],\n",
       "       [ 22. ,   5.1,   3.7,   1.5],\n",
       "       [ 23. ,   4.6,   3.6,   1. ],\n",
       "       [ 24. ,   5.1,   3.3,   1.7],\n",
       "       [ 25. ,   4.8,   3.4,   1.9],\n",
       "       [ 26. ,   5. ,   3. ,   1.6],\n",
       "       [ 27. ,   5. ,   3.4,   1.6],\n",
       "       [ 28. ,   5.2,   3.5,   1.5],\n",
       "       [ 29. ,   5.2,   3.4,   1.4],\n",
       "       [ 30. ,   4.7,   3.2,   1.6],\n",
       "       [ 31. ,   4.8,   3.1,   1.6],\n",
       "       [ 32. ,   5.4,   3.4,   1.5],\n",
       "       [ 33. ,   5.2,   4.1,   1.5],\n",
       "       [ 34. ,   5.5,   4.2,   1.4],\n",
       "       [ 35. ,   4.9,   3.1,   1.5],\n",
       "       [ 36. ,   5. ,   3.2,   1.2],\n",
       "       [ 37. ,   5.5,   3.5,   1.3],\n",
       "       [ 38. ,   4.9,   3.1,   1.5],\n",
       "       [ 39. ,   4.4,   3. ,   1.3],\n",
       "       [ 40. ,   5.1,   3.4,   1.5],\n",
       "       [ 41. ,   5. ,   3.5,   1.3],\n",
       "       [ 42. ,   4.5,   2.3,   1.3],\n",
       "       [ 43. ,   4.4,   3.2,   1.3],\n",
       "       [ 44. ,   5. ,   3.5,   1.6],\n",
       "       [ 45. ,   5.1,   3.8,   1.9],\n",
       "       [ 46. ,   4.8,   3. ,   1.4],\n",
       "       [ 47. ,   5.1,   3.8,   1.6],\n",
       "       [ 48. ,   4.6,   3.2,   1.4],\n",
       "       [ 49. ,   5.3,   3.7,   1.5],\n",
       "       [ 50. ,   5. ,   3.3,   1.4],\n",
       "       [ 51. ,   7. ,   3.2,   4.7],\n",
       "       [ 52. ,   6.4,   3.2,   4.5],\n",
       "       [ 53. ,   6.9,   3.1,   4.9],\n",
       "       [ 54. ,   5.5,   2.3,   4. ],\n",
       "       [ 55. ,   6.5,   2.8,   4.6],\n",
       "       [ 56. ,   5.7,   2.8,   4.5],\n",
       "       [ 57. ,   6.3,   3.3,   4.7],\n",
       "       [ 58. ,   4.9,   2.4,   3.3],\n",
       "       [ 59. ,   6.6,   2.9,   4.6],\n",
       "       [ 60. ,   5.2,   2.7,   3.9],\n",
       "       [ 61. ,   5. ,   2. ,   3.5],\n",
       "       [ 62. ,   5.9,   3. ,   4.2],\n",
       "       [ 63. ,   6. ,   2.2,   4. ],\n",
       "       [ 64. ,   6.1,   2.9,   4.7],\n",
       "       [ 65. ,   5.6,   2.9,   3.6],\n",
       "       [ 66. ,   6.7,   3.1,   4.4],\n",
       "       [ 67. ,   5.6,   3. ,   4.5],\n",
       "       [ 68. ,   5.8,   2.7,   4.1],\n",
       "       [ 69. ,   6.2,   2.2,   4.5],\n",
       "       [ 70. ,   5.6,   2.5,   3.9],\n",
       "       [ 71. ,   5.9,   3.2,   4.8],\n",
       "       [ 72. ,   6.1,   2.8,   4. ],\n",
       "       [ 73. ,   6.3,   2.5,   4.9],\n",
       "       [ 74. ,   6.1,   2.8,   4.7],\n",
       "       [ 75. ,   6.4,   2.9,   4.3],\n",
       "       [ 76. ,   6.6,   3. ,   4.4],\n",
       "       [ 77. ,   6.8,   2.8,   4.8],\n",
       "       [ 78. ,   6.7,   3. ,   5. ],\n",
       "       [ 79. ,   6. ,   2.9,   4.5],\n",
       "       [ 80. ,   5.7,   2.6,   3.5],\n",
       "       [ 81. ,   5.5,   2.4,   3.8],\n",
       "       [ 82. ,   5.5,   2.4,   3.7],\n",
       "       [ 83. ,   5.8,   2.7,   3.9],\n",
       "       [ 84. ,   6. ,   2.7,   5.1],\n",
       "       [ 85. ,   5.4,   3. ,   4.5],\n",
       "       [ 86. ,   6. ,   3.4,   4.5],\n",
       "       [ 87. ,   6.7,   3.1,   4.7],\n",
       "       [ 88. ,   6.3,   2.3,   4.4],\n",
       "       [ 89. ,   5.6,   3. ,   4.1],\n",
       "       [ 90. ,   5.5,   2.5,   4. ],\n",
       "       [ 91. ,   5.5,   2.6,   4.4],\n",
       "       [ 92. ,   6.1,   3. ,   4.6],\n",
       "       [ 93. ,   5.8,   2.6,   4. ],\n",
       "       [ 94. ,   5. ,   2.3,   3.3],\n",
       "       [ 95. ,   5.6,   2.7,   4.2],\n",
       "       [ 96. ,   5.7,   3. ,   4.2],\n",
       "       [ 97. ,   5.7,   2.9,   4.2],\n",
       "       [ 98. ,   6.2,   2.9,   4.3],\n",
       "       [ 99. ,   5.1,   2.5,   3. ],\n",
       "       [100. ,   5.7,   2.8,   4.1],\n",
       "       [101. ,   6.3,   3.3,   6. ],\n",
       "       [102. ,   5.8,   2.7,   5.1],\n",
       "       [103. ,   7.1,   3. ,   5.9],\n",
       "       [104. ,   6.3,   2.9,   5.6],\n",
       "       [105. ,   6.5,   3. ,   5.8],\n",
       "       [106. ,   7.6,   3. ,   6.6],\n",
       "       [107. ,   4.9,   2.5,   4.5],\n",
       "       [108. ,   7.3,   2.9,   6.3],\n",
       "       [109. ,   6.7,   2.5,   5.8],\n",
       "       [110. ,   7.2,   3.6,   6.1],\n",
       "       [111. ,   6.5,   3.2,   5.1],\n",
       "       [112. ,   6.4,   2.7,   5.3],\n",
       "       [113. ,   6.8,   3. ,   5.5],\n",
       "       [114. ,   5.7,   2.5,   5. ],\n",
       "       [115. ,   5.8,   2.8,   5.1],\n",
       "       [116. ,   6.4,   3.2,   5.3],\n",
       "       [117. ,   6.5,   3. ,   5.5],\n",
       "       [118. ,   7.7,   3.8,   6.7],\n",
       "       [119. ,   7.7,   2.6,   6.9],\n",
       "       [120. ,   6. ,   2.2,   5. ],\n",
       "       [121. ,   6.9,   3.2,   5.7],\n",
       "       [122. ,   5.6,   2.8,   4.9],\n",
       "       [123. ,   7.7,   2.8,   6.7],\n",
       "       [124. ,   6.3,   2.7,   4.9],\n",
       "       [125. ,   6.7,   3.3,   5.7],\n",
       "       [126. ,   7.2,   3.2,   6. ],\n",
       "       [127. ,   6.2,   2.8,   4.8],\n",
       "       [128. ,   6.1,   3. ,   4.9],\n",
       "       [129. ,   6.4,   2.8,   5.6],\n",
       "       [130. ,   7.2,   3. ,   5.8],\n",
       "       [131. ,   7.4,   2.8,   6.1],\n",
       "       [132. ,   7.9,   3.8,   6.4],\n",
       "       [133. ,   6.4,   2.8,   5.6],\n",
       "       [134. ,   6.3,   2.8,   5.1],\n",
       "       [135. ,   6.1,   2.6,   5.6],\n",
       "       [136. ,   7.7,   3. ,   6.1],\n",
       "       [137. ,   6.3,   3.4,   5.6],\n",
       "       [138. ,   6.4,   3.1,   5.5],\n",
       "       [139. ,   6. ,   3. ,   4.8],\n",
       "       [140. ,   6.9,   3.1,   5.4],\n",
       "       [141. ,   6.7,   3.1,   5.6],\n",
       "       [142. ,   6.9,   3.1,   5.1],\n",
       "       [143. ,   5.8,   2.7,   5.1],\n",
       "       [144. ,   6.8,   3.2,   5.9],\n",
       "       [145. ,   6.7,   3.3,   5.7],\n",
       "       [146. ,   6.7,   3. ,   5.2],\n",
       "       [147. ,   6.3,   2.5,   5. ],\n",
       "       [148. ,   6.5,   3. ,   5.2],\n",
       "       [149. ,   6.2,   3.4,   5.4],\n",
       "       [150. ,   5.9,   3. ,   5.1]])"
      ]
     },
     "execution_count": 10,
     "metadata": {},
     "output_type": "execute_result"
    }
   ],
   "source": [
    "X"
   ]
  },
  {
   "cell_type": "markdown",
   "metadata": {},
   "source": [
    "### Step 3 - Splitting into Train and Test set"
   ]
  },
  {
   "cell_type": "code",
   "execution_count": 11,
   "metadata": {},
   "outputs": [],
   "source": [
    "from sklearn.model_selection import train_test_split\n",
    "\n",
    "X_train, X_test, y_train, y_test = train_test_split(X, y, test_size = 0.2, random_state = 42)"
   ]
  },
  {
   "cell_type": "code",
   "execution_count": 12,
   "metadata": {},
   "outputs": [
    {
     "data": {
      "text/plain": [
       "array([[ 23. ,   4.6,   3.6,   1. ],\n",
       "       [ 16. ,   5.7,   4.4,   1.5],\n",
       "       [ 66. ,   6.7,   3.1,   4.4],\n",
       "       [ 12. ,   4.8,   3.4,   1.6],\n",
       "       [ 43. ,   4.4,   3.2,   1.3],\n",
       "       [147. ,   6.3,   2.5,   5. ],\n",
       "       [ 52. ,   6.4,   3.2,   4.5],\n",
       "       [ 28. ,   5.2,   3.5,   1.5],\n",
       "       [  5. ,   5. ,   3.6,   1.4],\n",
       "       [ 33. ,   5.2,   4.1,   1.5],\n",
       "       [143. ,   5.8,   2.7,   5.1],\n",
       "       [ 86. ,   6. ,   3.4,   4.5],\n",
       "       [ 87. ,   6.7,   3.1,   4.7],\n",
       "       [ 17. ,   5.4,   3.9,   1.3],\n",
       "       [ 11. ,   5.4,   3.7,   1.5],\n",
       "       [ 82. ,   5.5,   2.4,   3.7],\n",
       "       [134. ,   6.3,   2.8,   5.1],\n",
       "       [138. ,   6.4,   3.1,   5.5],\n",
       "       [ 76. ,   6.6,   3. ,   4.4],\n",
       "       [110. ,   7.2,   3.6,   6.1],\n",
       "       [ 97. ,   5.7,   2.9,   4.2],\n",
       "       [106. ,   7.6,   3. ,   6.6],\n",
       "       [ 67. ,   5.6,   3. ,   4.5],\n",
       "       [  1. ,   5.1,   3.5,   1.4],\n",
       "       [123. ,   7.7,   2.8,   6.7],\n",
       "       [ 68. ,   5.8,   2.7,   4.1],\n",
       "       [ 29. ,   5.2,   3.4,   1.4],\n",
       "       [ 41. ,   5. ,   3.5,   1.3],\n",
       "       [ 45. ,   5.1,   3.8,   1.9],\n",
       "       [ 61. ,   5. ,   2. ,   3.5],\n",
       "       [124. ,   6.3,   2.7,   4.9],\n",
       "       [ 25. ,   4.8,   3.4,   1.9],\n",
       "       [ 26. ,   5. ,   3. ,   1.6],\n",
       "       [ 24. ,   5.1,   3.3,   1.7],\n",
       "       [ 95. ,   5.6,   2.7,   4.2],\n",
       "       [ 40. ,   5.1,   3.4,   1.5],\n",
       "       [ 96. ,   5.7,   3. ,   4.2],\n",
       "       [118. ,   7.7,   3.8,   6.7],\n",
       "       [ 48. ,   4.6,   3.2,   1.4],\n",
       "       [ 98. ,   6.2,   2.9,   4.3],\n",
       "       [114. ,   5.7,   2.5,   5. ],\n",
       "       [ 34. ,   5.5,   4.2,   1.4],\n",
       "       [139. ,   6. ,   3. ,   4.8],\n",
       "       [102. ,   5.8,   2.7,   5.1],\n",
       "       [ 63. ,   6. ,   2.2,   4. ],\n",
       "       [ 85. ,   5.4,   3. ,   4.5],\n",
       "       [149. ,   6.2,   3.4,   5.4],\n",
       "       [ 54. ,   5.5,   2.3,   4. ],\n",
       "       [  6. ,   5.4,   3.9,   1.7],\n",
       "       [ 94. ,   5. ,   2.3,   3.3],\n",
       "       [112. ,   6.4,   2.7,   5.3],\n",
       "       [ 50. ,   5. ,   3.3,   1.4],\n",
       "       [ 36. ,   5. ,   3.2,   1.2],\n",
       "       [ 81. ,   5.5,   2.4,   3.8],\n",
       "       [ 78. ,   6.7,   3. ,   5. ],\n",
       "       [ 35. ,   4.9,   3.1,   1.5],\n",
       "       [115. ,   5.8,   2.8,   5.1],\n",
       "       [  8. ,   5. ,   3.4,   1.5],\n",
       "       [ 44. ,   5. ,   3.5,   1.6],\n",
       "       [ 71. ,   5.9,   3.2,   4.8],\n",
       "       [ 99. ,   5.1,   2.5,   3. ],\n",
       "       [121. ,   6.9,   3.2,   5.7],\n",
       "       [ 84. ,   6. ,   2.7,   5.1],\n",
       "       [135. ,   6.1,   2.6,   5.6],\n",
       "       [136. ,   7.7,   3. ,   6.1],\n",
       "       [ 90. ,   5.5,   2.5,   4. ],\n",
       "       [  9. ,   4.4,   2.9,   1.4],\n",
       "       [ 14. ,   4.3,   3. ,   1.1],\n",
       "       [120. ,   6. ,   2.2,   5. ],\n",
       "       [126. ,   7.2,   3.2,   6. ],\n",
       "       [  4. ,   4.6,   3.1,   1.5],\n",
       "       [ 18. ,   5.1,   3.5,   1.4],\n",
       "       [ 39. ,   4.4,   3. ,   1.3],\n",
       "       [ 73. ,   6.3,   2.5,   4.9],\n",
       "       [137. ,   6.3,   3.4,   5.6],\n",
       "       [  7. ,   4.6,   3.4,   1.4],\n",
       "       [113. ,   6.8,   3. ,   5.5],\n",
       "       [101. ,   6.3,   3.3,   6. ],\n",
       "       [  3. ,   4.7,   3.2,   1.3],\n",
       "       [ 64. ,   6.1,   2.9,   4.7],\n",
       "       [ 55. ,   6.5,   2.8,   4.6],\n",
       "       [127. ,   6.2,   2.8,   4.8],\n",
       "       [ 51. ,   7. ,   3.2,   4.7],\n",
       "       [116. ,   6.4,   3.2,   5.3],\n",
       "       [ 47. ,   5.1,   3.8,   1.6],\n",
       "       [140. ,   6.9,   3.1,   5.4],\n",
       "       [ 62. ,   5.9,   3. ,   4.2],\n",
       "       [148. ,   6.5,   3. ,   5.2],\n",
       "       [ 80. ,   5.7,   2.6,   3.5],\n",
       "       [ 60. ,   5.2,   2.7,   3.9],\n",
       "       [ 92. ,   6.1,   3. ,   4.6],\n",
       "       [ 42. ,   4.5,   2.3,   1.3],\n",
       "       [ 59. ,   6.6,   2.9,   4.6],\n",
       "       [ 91. ,   5.5,   2.6,   4.4],\n",
       "       [ 49. ,   5.3,   3.7,   1.5],\n",
       "       [ 89. ,   5.6,   3. ,   4.1],\n",
       "       [108. ,   7.3,   2.9,   6.3],\n",
       "       [125. ,   6.7,   3.3,   5.7],\n",
       "       [ 22. ,   5.1,   3.7,   1.5],\n",
       "       [ 58. ,   4.9,   2.4,   3.3],\n",
       "       [145. ,   6.7,   3.3,   5.7],\n",
       "       [130. ,   7.2,   3. ,   5.8],\n",
       "       [ 38. ,   4.9,   3.1,   1.5],\n",
       "       [141. ,   6.7,   3.1,   5.6],\n",
       "       [  2. ,   4.9,   3. ,   1.4],\n",
       "       [ 53. ,   6.9,   3.1,   4.9],\n",
       "       [131. ,   7.4,   2.8,   6.1],\n",
       "       [104. ,   6.3,   2.9,   5.6],\n",
       "       [100. ,   5.7,   2.8,   4.1],\n",
       "       [117. ,   6.5,   3. ,   5.5],\n",
       "       [ 88. ,   6.3,   2.3,   4.4],\n",
       "       [ 75. ,   6.4,   2.9,   4.3],\n",
       "       [122. ,   5.6,   2.8,   4.9],\n",
       "       [150. ,   5.9,   3. ,   5.1],\n",
       "       [ 21. ,   5.4,   3.4,   1.7],\n",
       "       [ 72. ,   6.1,   2.8,   4. ],\n",
       "       [107. ,   4.9,   2.5,   4.5],\n",
       "       [ 15. ,   5.8,   4. ,   1.2],\n",
       "       [ 93. ,   5.8,   2.6,   4. ],\n",
       "       [103. ,   7.1,   3. ,   5.9]])"
      ]
     },
     "execution_count": 12,
     "metadata": {},
     "output_type": "execute_result"
    }
   ],
   "source": [
    "X_train"
   ]
  },
  {
   "cell_type": "markdown",
   "metadata": {},
   "source": [
    "### Step 4 - Feature Scaling"
   ]
  },
  {
   "cell_type": "code",
   "execution_count": 13,
   "metadata": {},
   "outputs": [],
   "source": [
    "from sklearn.preprocessing import StandardScaler\n",
    "\n",
    "sc = StandardScaler()\n",
    "X_train = sc.fit_transform(X_train)\n",
    "X_test = sc.transform(X_test)"
   ]
  },
  {
   "cell_type": "code",
   "execution_count": 14,
   "metadata": {},
   "outputs": [
    {
     "data": {
      "text/plain": [
       "array([[-1.21030717, -1.47393679,  1.22037928, -1.5639872 ],\n",
       "       [-1.37240188, -0.13307079,  3.02001693, -1.27728011],\n",
       "       [-0.21458252,  1.08589829,  0.09560575,  0.38562104],\n",
       "       [-1.46502743, -1.23014297,  0.77046987, -1.21993869],\n",
       "       [-0.74717943, -1.7177306 ,  0.32056046, -1.39196294],\n",
       "       [ 1.66108484,  0.59831066, -1.25412249,  0.72966956],\n",
       "       [-0.53877194,  0.72020757,  0.32056046,  0.44296246],\n",
       "       [-1.09452523, -0.74255534,  0.99542457, -1.27728011],\n",
       "       [-1.62712214, -0.98634915,  1.22037928, -1.33462153],\n",
       "       [-0.9787433 , -0.74255534,  2.34515281, -1.27728011],\n",
       "       [ 1.56845929, -0.01117388, -0.80421307,  0.78701097],\n",
       "       [ 0.24854522,  0.23261993,  0.77046987,  0.44296246],\n",
       "       [ 0.27170161,  1.08589829,  0.09560575,  0.5576453 ],\n",
       "       [-1.34924549, -0.49876152,  1.8952434 , -1.39196294],\n",
       "       [-1.48818382, -0.49876152,  1.44533399, -1.27728011],\n",
       "       [ 0.15591967, -0.37686461, -1.47907719, -0.01576889],\n",
       "       [ 1.36005181,  0.59831066, -0.57925837,  0.78701097],\n",
       "       [ 1.45267736,  0.72020757,  0.09560575,  1.01637665],\n",
       "       [ 0.01698135,  0.96400139, -0.12934896,  0.38562104],\n",
       "       [ 0.80429851,  1.69538284,  1.22037928,  1.36042516],\n",
       "       [ 0.50326548, -0.13307079, -0.35430366,  0.2709382 ],\n",
       "       [ 0.71167297,  2.18297047, -0.12934896,  1.64713226],\n",
       "       [-0.19142613, -0.2549677 , -0.12934896,  0.44296246],\n",
       "       [-1.71974769, -0.86445224,  0.99542457, -1.33462153],\n",
       "       [ 1.10533155,  2.30486738, -0.57925837,  1.70447368],\n",
       "       [-0.16826975, -0.01117388, -0.80421307,  0.21359679],\n",
       "       [-1.07136885, -0.74255534,  0.77046987, -1.33462153],\n",
       "       [-0.7934922 , -0.98634915,  0.99542457, -1.39196294],\n",
       "       [-0.70086665, -0.86445224,  1.67028869, -1.04791443],\n",
       "       [-0.33036446, -0.98634915, -2.37889602, -0.13045173],\n",
       "       [ 1.12848794,  0.59831066, -0.80421307,  0.67232814],\n",
       "       [-1.1639944 , -1.23014297,  0.77046987, -1.04791443],\n",
       "       [-1.14083801, -0.98634915, -0.12934896, -1.21993869],\n",
       "       [-1.18715078, -0.86445224,  0.54551516, -1.16259727],\n",
       "       [ 0.45695271, -0.2549677 , -0.80421307,  0.2709382 ],\n",
       "       [-0.81664859, -0.86445224,  0.77046987, -1.27728011],\n",
       "       [ 0.48010909, -0.13307079, -0.12934896,  0.2709382 ],\n",
       "       [ 0.98954961,  2.30486738,  1.67028869,  1.70447368],\n",
       "       [-0.63139749, -1.47393679,  0.32056046, -1.33462153],\n",
       "       [ 0.52642187,  0.47641375, -0.35430366,  0.32827962],\n",
       "       [ 0.89692406, -0.13307079, -1.25412249,  0.72966956],\n",
       "       [-0.95558691, -0.37686461,  2.57010752, -1.33462153],\n",
       "       [ 1.47583374,  0.23261993, -0.12934896,  0.61498672],\n",
       "       [ 0.61904742, -0.01117388, -0.80421307,  0.78701097],\n",
       "       [-0.28405168,  0.23261993, -1.9289866 ,  0.15625537],\n",
       "       [ 0.22538884, -0.49876152, -0.12934896,  0.44296246],\n",
       "       [ 1.70739761,  0.47641375,  0.77046987,  0.95903523],\n",
       "       [-0.49245917, -0.37686461, -1.7040319 ,  0.15625537],\n",
       "       [-1.60396575, -0.49876152,  1.8952434 , -1.16259727],\n",
       "       [ 0.43379632, -0.98634915, -1.7040319 , -0.24513457],\n",
       "       [ 0.85061129,  0.72020757, -0.80421307,  0.90169381],\n",
       "       [-0.58508472, -0.98634915,  0.54551516, -1.33462153],\n",
       "       [-0.90927414, -0.98634915,  0.32056046, -1.44930436],\n",
       "       [ 0.13276329, -0.37686461, -1.47907719,  0.04157253],\n",
       "       [ 0.06329412,  1.08589829, -0.12934896,  0.72966956],\n",
       "       [-0.93243052, -1.10824606,  0.09560575, -1.27728011],\n",
       "       [ 0.92008045, -0.01117388, -0.57925837,  0.78701097],\n",
       "       [-1.55765298, -0.98634915,  0.77046987, -1.27728011],\n",
       "       [-0.72402304, -0.98634915,  0.99542457, -1.21993869],\n",
       "       [-0.09880059,  0.11072303,  0.32056046,  0.61498672],\n",
       "       [ 0.54957826, -0.86445224, -1.25412249, -0.41715882],\n",
       "       [ 1.05901877,  1.32969211,  0.32056046,  1.13105949],\n",
       "       [ 0.20223245,  0.23261993, -0.80421307,  0.78701097],\n",
       "       [ 1.38320819,  0.35451684, -1.02916778,  1.07371807],\n",
       "       [ 1.40636458,  2.30486738, -0.12934896,  1.36042516],\n",
       "       [ 0.34117077, -0.37686461, -1.25412249,  0.15625537],\n",
       "       [-1.53449659, -1.7177306 , -0.35430366, -1.33462153],\n",
       "       [-1.41871465, -1.83962751, -0.12934896, -1.50664578],\n",
       "       [ 1.03586239,  0.23261993, -1.9289866 ,  0.72966956],\n",
       "       [ 1.17480071,  1.69538284,  0.32056046,  1.30308374],\n",
       "       [-1.65027853, -1.47393679,  0.09560575, -1.27728011],\n",
       "       [-1.32608911, -0.86445224,  0.99542457, -1.33462153],\n",
       "       [-0.83980497, -1.7177306 , -0.12934896, -1.39196294],\n",
       "       [-0.05248781,  0.59831066, -1.25412249,  0.67232814],\n",
       "       [ 1.42952097,  0.59831066,  0.77046987,  1.07371807],\n",
       "       [-1.58080936, -1.47393679,  0.77046987, -1.33462153],\n",
       "       [ 0.87376768,  1.2077952 , -0.12934896,  1.01637665],\n",
       "       [ 0.59589103,  0.59831066,  0.54551516,  1.30308374],\n",
       "       [-1.67343491, -1.35203988,  0.32056046, -1.39196294],\n",
       "       [-0.2608953 ,  0.35451684, -0.35430366,  0.5576453 ],\n",
       "       [-0.46930278,  0.84210448, -0.57925837,  0.50030388],\n",
       "       [ 1.1979571 ,  0.47641375, -0.57925837,  0.61498672],\n",
       "       [-0.56192833,  1.45158902,  0.32056046,  0.5576453 ],\n",
       "       [ 0.94323684,  0.72020757,  0.32056046,  0.90169381],\n",
       "       [-0.65455388, -0.86445224,  1.67028869, -1.21993869],\n",
       "       [ 1.49899013,  1.32969211,  0.09560575,  0.95903523],\n",
       "       [-0.30720807,  0.11072303, -0.12934896,  0.2709382 ],\n",
       "       [ 1.68424123,  0.84210448, -0.12934896,  0.84435239],\n",
       "       [ 0.1096069 , -0.13307079, -1.02916778, -0.13045173],\n",
       "       [-0.35352084, -0.74255534, -0.80421307,  0.09891395],\n",
       "       [ 0.38748355,  0.35451684, -0.12934896,  0.50030388],\n",
       "       [-0.77033581, -1.5958337 , -1.7040319 , -1.39196294],\n",
       "       [-0.37667723,  0.96400139, -0.35430366,  0.50030388],\n",
       "       [ 0.36432716, -0.37686461, -1.02916778,  0.38562104],\n",
       "       [-0.6082411 , -0.62065843,  1.44533399, -1.27728011],\n",
       "       [ 0.31801438, -0.2549677 , -0.12934896,  0.21359679],\n",
       "       [ 0.75798574,  1.81727975, -0.35430366,  1.475108  ],\n",
       "       [ 1.15164432,  1.08589829,  0.54551516,  1.13105949],\n",
       "       [-1.23346356, -0.86445224,  1.44533399, -1.27728011],\n",
       "       [-0.39983362, -1.10824606, -1.47907719, -0.24513457],\n",
       "       [ 1.61477207,  1.08589829,  0.54551516,  1.13105949],\n",
       "       [ 1.26742626,  1.69538284, -0.12934896,  1.18840091],\n",
       "       [-0.86296136, -1.10824606,  0.09560575, -1.27728011],\n",
       "       [ 1.52214652,  1.08589829,  0.09560575,  1.07371807],\n",
       "       [-1.6965913 , -1.10824606, -0.12934896, -1.33462153],\n",
       "       [-0.51561555,  1.32969211,  0.09560575,  0.67232814],\n",
       "       [ 1.29058265,  1.93917666, -0.57925837,  1.36042516],\n",
       "       [ 0.66536019,  0.59831066, -0.35430366,  1.07371807],\n",
       "       [ 0.57273464, -0.13307079, -0.57925837,  0.21359679],\n",
       "       [ 0.96639322,  0.84210448, -0.12934896,  1.01637665],\n",
       "       [ 0.294858  ,  0.59831066, -1.7040319 ,  0.38562104],\n",
       "       [-0.00617504,  0.72020757, -0.35430366,  0.32827962],\n",
       "       [ 1.08217516, -0.2549677 , -0.57925837,  0.67232814],\n",
       "       [ 1.730554  ,  0.11072303, -0.12934896,  0.78701097],\n",
       "       [-1.25661994, -0.49876152,  0.77046987, -1.16259727],\n",
       "       [-0.0756442 ,  0.35451684, -0.57925837,  0.15625537],\n",
       "       [ 0.73482935, -1.10824606, -1.25412249,  0.44296246],\n",
       "       [-1.39555827, -0.01117388,  2.1201981 , -1.44930436],\n",
       "       [ 0.41063993, -0.01117388, -1.02916778,  0.15625537],\n",
       "       [ 0.6422038 ,  1.57348593, -0.12934896,  1.24574233]])"
      ]
     },
     "execution_count": 14,
     "metadata": {},
     "output_type": "execute_result"
    }
   ],
   "source": [
    "X_train"
   ]
  },
  {
   "cell_type": "markdown",
   "metadata": {},
   "source": [
    "### Step 5 - Training the Naive Bayes Classification model on the Training Set"
   ]
  },
  {
   "cell_type": "code",
   "execution_count": 15,
   "metadata": {},
   "outputs": [
    {
     "data": {
      "text/plain": [
       "GaussianNB()"
      ]
     },
     "execution_count": 15,
     "metadata": {},
     "output_type": "execute_result"
    }
   ],
   "source": [
    "from sklearn.naive_bayes import GaussianNB\n",
    "\n",
    "classifier = GaussianNB()\n",
    "classifier.fit(X_train, y_train)"
   ]
  },
  {
   "cell_type": "markdown",
   "metadata": {},
   "source": [
    "### Step 6 - Predicting the Test set results"
   ]
  },
  {
   "cell_type": "code",
   "execution_count": 16,
   "metadata": {},
   "outputs": [
    {
     "data": {
      "text/plain": [
       "array(['Iris-versicolor', 'Iris-setosa', 'Iris-virginica',\n",
       "       'Iris-versicolor', 'Iris-versicolor', 'Iris-setosa',\n",
       "       'Iris-versicolor', 'Iris-virginica', 'Iris-versicolor',\n",
       "       'Iris-versicolor', 'Iris-virginica', 'Iris-setosa', 'Iris-setosa',\n",
       "       'Iris-setosa', 'Iris-setosa', 'Iris-versicolor', 'Iris-virginica',\n",
       "       'Iris-versicolor', 'Iris-versicolor', 'Iris-virginica',\n",
       "       'Iris-setosa', 'Iris-virginica', 'Iris-setosa', 'Iris-virginica',\n",
       "       'Iris-virginica', 'Iris-virginica', 'Iris-virginica',\n",
       "       'Iris-virginica', 'Iris-setosa', 'Iris-setosa'], dtype='<U15')"
      ]
     },
     "execution_count": 16,
     "metadata": {},
     "output_type": "execute_result"
    }
   ],
   "source": [
    "y_pred = classifier.predict(X_test) \n",
    "y_pred"
   ]
  },
  {
   "cell_type": "markdown",
   "metadata": {},
   "source": [
    "### Step 7 - Confusion Matrix and Accuracy"
   ]
  },
  {
   "cell_type": "code",
   "execution_count": 17,
   "metadata": {},
   "outputs": [
    {
     "data": {
      "text/plain": [
       "array([[10,  0,  0],\n",
       "       [ 0,  9,  0],\n",
       "       [ 0,  0, 11]])"
      ]
     },
     "execution_count": 17,
     "metadata": {},
     "output_type": "execute_result"
    }
   ],
   "source": [
    "from sklearn.metrics import confusion_matrix, ConfusionMatrixDisplay\n",
    "\n",
    "cm = confusion_matrix(y_test, y_pred)\n",
    "\n",
    "cm"
   ]
  },
  {
   "cell_type": "code",
   "execution_count": 18,
   "metadata": {},
   "outputs": [
    {
     "data": {
      "image/png": "[encoded data removed]",
      "text/plain": [
       "<Figure size 432x288 with 2 Axes>"
      ]
     },
     "metadata": {
      "needs_background": "light"
     },
     "output_type": "display_data"
    }
   ],
   "source": [
    "labels = ['SETOSA','VERSICOLR','VIRGINICA']\n",
    "disp = ConfusionMatrixDisplay(confusion_matrix=cm, display_labels=labels)\n",
    "disp.plot();\n",
    "plt.show()"
   ]
  },
  {
   "cell_type": "code",
   "execution_count": 19,
   "metadata": {},
   "outputs": [
    {
     "data": {
      "image/png": "[encoded data removed]",
      "text/plain": [
       "<Figure size 360x288 with 2 Axes>"
      ]
     },
     "metadata": {
      "needs_background": "light"
     },
     "output_type": "display_data"
    }
   ],
   "source": [
    "cm_df = pd.DataFrame(cm,index = ['SETOSA','VERSICOLR','VIRGINICA'], \n",
    "                     columns = ['SETOSA','VERSICOLR','VIRGINICA'])\n",
    "plt.figure(figsize=(5,4))\n",
    "sns.heatmap(cm_df, annot=True)\n",
    "plt.title('Confusion Matrix')\n",
    "plt.ylabel('Actal Values')\n",
    "plt.xlabel('Predicted Values')\n",
    "plt.show()"
   ]
  },
  {
   "cell_type": "code",
   "execution_count": 36,
   "metadata": {},
   "outputs": [
    {
     "name": "stdout",
     "output_type": "stream",
     "text": [
      "Accuracy :  1.0\n",
      "Error rate :  0.0\n",
      "Precision :  1.0\n",
      "Recall :  1.0\n",
      "F1 Score :  1.0\n"
     ]
    }
   ],
   "source": [
    "from sklearn.metrics import accuracy_score, f1_score, precision_score, recall_score\n",
    "\n",
    "print (\"Accuracy : \", accuracy_score(y_test, y_pred))\n",
    "\n",
    "print(\"Error rate : \", 1 - accuracy_score(y_test, y_pred))\n",
    "\n",
    "print(\"Precision : \", precision_score(y_test, y_pred, average = 'macro'))\n",
    "\n",
    "print(\"Recall : \", recall_score(y_test, y_pred, average = 'macro'))\n",
    "\n",
    "print(\"F1 Score : \", f1_score(y_test, y_pred, average = 'macro'))"
   ]
  },
  {
   "cell_type": "markdown",
   "metadata": {},
   "source": [
    "### Step 8 - Comparing the Real Values with Predicted Values"
   ]
  },
  {
   "cell_type": "code",
   "execution_count": 21,
   "metadata": {},
   "outputs": [
    {
     "data": {
      "text/html": [
       "<div>\n",
       "<style scoped>\n",
       "    .dataframe tbody tr th:only-of-type {\n",
       "        vertical-align: middle;\n",
       "    }\n",
       "\n",
       "    .dataframe tbody tr th {\n",
       "        vertical-align: top;\n",
       "    }\n",
       "\n",
       "    .dataframe thead th {\n",
       "        text-align: right;\n",
       "    }\n",
       "</style>\n",
       "<table border=\"1\" class=\"dataframe\">\n",
       "  <thead>\n",
       "    <tr style=\"text-align: right;\">\n",
       "      <th></th>\n",
       "      <th>Real Values</th>\n",
       "      <th>Predicted Values</th>\n",
       "    </tr>\n",
       "  </thead>\n",
       "  <tbody>\n",
       "    <tr>\n",
       "      <th>0</th>\n",
       "      <td>Iris-versicolor</td>\n",
       "      <td>Iris-versicolor</td>\n",
       "    </tr>\n",
       "    <tr>\n",
       "      <th>1</th>\n",
       "      <td>Iris-setosa</td>\n",
       "      <td>Iris-setosa</td>\n",
       "    </tr>\n",
       "    <tr>\n",
       "      <th>2</th>\n",
       "      <td>Iris-virginica</td>\n",
       "      <td>Iris-virginica</td>\n",
       "    </tr>\n",
       "    <tr>\n",
       "      <th>3</th>\n",
       "      <td>Iris-versicolor</td>\n",
       "      <td>Iris-versicolor</td>\n",
       "    </tr>\n",
       "    <tr>\n",
       "      <th>4</th>\n",
       "      <td>Iris-versicolor</td>\n",
       "      <td>Iris-versicolor</td>\n",
       "    </tr>\n",
       "    <tr>\n",
       "      <th>5</th>\n",
       "      <td>Iris-setosa</td>\n",
       "      <td>Iris-setosa</td>\n",
       "    </tr>\n",
       "    <tr>\n",
       "      <th>6</th>\n",
       "      <td>Iris-versicolor</td>\n",
       "      <td>Iris-versicolor</td>\n",
       "    </tr>\n",
       "    <tr>\n",
       "      <th>7</th>\n",
       "      <td>Iris-virginica</td>\n",
       "      <td>Iris-virginica</td>\n",
       "    </tr>\n",
       "    <tr>\n",
       "      <th>8</th>\n",
       "      <td>Iris-versicolor</td>\n",
       "      <td>Iris-versicolor</td>\n",
       "    </tr>\n",
       "    <tr>\n",
       "      <th>9</th>\n",
       "      <td>Iris-versicolor</td>\n",
       "      <td>Iris-versicolor</td>\n",
       "    </tr>\n",
       "    <tr>\n",
       "      <th>10</th>\n",
       "      <td>Iris-virginica</td>\n",
       "      <td>Iris-virginica</td>\n",
       "    </tr>\n",
       "    <tr>\n",
       "      <th>11</th>\n",
       "      <td>Iris-setosa</td>\n",
       "      <td>Iris-setosa</td>\n",
       "    </tr>\n",
       "    <tr>\n",
       "      <th>12</th>\n",
       "      <td>Iris-setosa</td>\n",
       "      <td>Iris-setosa</td>\n",
       "    </tr>\n",
       "    <tr>\n",
       "      <th>13</th>\n",
       "      <td>Iris-setosa</td>\n",
       "      <td>Iris-setosa</td>\n",
       "    </tr>\n",
       "    <tr>\n",
       "      <th>14</th>\n",
       "      <td>Iris-setosa</td>\n",
       "      <td>Iris-setosa</td>\n",
       "    </tr>\n",
       "    <tr>\n",
       "      <th>15</th>\n",
       "      <td>Iris-versicolor</td>\n",
       "      <td>Iris-versicolor</td>\n",
       "    </tr>\n",
       "    <tr>\n",
       "      <th>16</th>\n",
       "      <td>Iris-virginica</td>\n",
       "      <td>Iris-virginica</td>\n",
       "    </tr>\n",
       "    <tr>\n",
       "      <th>17</th>\n",
       "      <td>Iris-versicolor</td>\n",
       "      <td>Iris-versicolor</td>\n",
       "    </tr>\n",
       "    <tr>\n",
       "      <th>18</th>\n",
       "      <td>Iris-versicolor</td>\n",
       "      <td>Iris-versicolor</td>\n",
       "    </tr>\n",
       "    <tr>\n",
       "      <th>19</th>\n",
       "      <td>Iris-virginica</td>\n",
       "      <td>Iris-virginica</td>\n",
       "    </tr>\n",
       "    <tr>\n",
       "      <th>20</th>\n",
       "      <td>Iris-setosa</td>\n",
       "      <td>Iris-setosa</td>\n",
       "    </tr>\n",
       "    <tr>\n",
       "      <th>21</th>\n",
       "      <td>Iris-virginica</td>\n",
       "      <td>Iris-virginica</td>\n",
       "    </tr>\n",
       "    <tr>\n",
       "      <th>22</th>\n",
       "      <td>Iris-setosa</td>\n",
       "      <td>Iris-setosa</td>\n",
       "    </tr>\n",
       "    <tr>\n",
       "      <th>23</th>\n",
       "      <td>Iris-virginica</td>\n",
       "      <td>Iris-virginica</td>\n",
       "    </tr>\n",
       "    <tr>\n",
       "      <th>24</th>\n",
       "      <td>Iris-virginica</td>\n",
       "      <td>Iris-virginica</td>\n",
       "    </tr>\n",
       "    <tr>\n",
       "      <th>25</th>\n",
       "      <td>Iris-virginica</td>\n",
       "      <td>Iris-virginica</td>\n",
       "    </tr>\n",
       "    <tr>\n",
       "      <th>26</th>\n",
       "      <td>Iris-virginica</td>\n",
       "      <td>Iris-virginica</td>\n",
       "    </tr>\n",
       "    <tr>\n",
       "      <th>27</th>\n",
       "      <td>Iris-virginica</td>\n",
       "      <td>Iris-virginica</td>\n",
       "    </tr>\n",
       "    <tr>\n",
       "      <th>28</th>\n",
       "      <td>Iris-setosa</td>\n",
       "      <td>Iris-setosa</td>\n",
       "    </tr>\n",
       "    <tr>\n",
       "      <th>29</th>\n",
       "      <td>Iris-setosa</td>\n",
       "      <td>Iris-setosa</td>\n",
       "    </tr>\n",
       "  </tbody>\n",
       "</table>\n",
       "</div>"
      ],
      "text/plain": [
       "        Real Values Predicted Values\n",
       "0   Iris-versicolor  Iris-versicolor\n",
       "1       Iris-setosa      Iris-setosa\n",
       "2    Iris-virginica   Iris-virginica\n",
       "3   Iris-versicolor  Iris-versicolor\n",
       "4   Iris-versicolor  Iris-versicolor\n",
       "5       Iris-setosa      Iris-setosa\n",
       "6   Iris-versicolor  Iris-versicolor\n",
       "7    Iris-virginica   Iris-virginica\n",
       "8   Iris-versicolor  Iris-versicolor\n",
       "9   Iris-versicolor  Iris-versicolor\n",
       "10   Iris-virginica   Iris-virginica\n",
       "11      Iris-setosa      Iris-setosa\n",
       "12      Iris-setosa      Iris-setosa\n",
       "13      Iris-setosa      Iris-setosa\n",
       "14      Iris-setosa      Iris-setosa\n",
       "15  Iris-versicolor  Iris-versicolor\n",
       "16   Iris-virginica   Iris-virginica\n",
       "17  Iris-versicolor  Iris-versicolor\n",
       "18  Iris-versicolor  Iris-versicolor\n",
       "19   Iris-virginica   Iris-virginica\n",
       "20      Iris-setosa      Iris-setosa\n",
       "21   Iris-virginica   Iris-virginica\n",
       "22      Iris-setosa      Iris-setosa\n",
       "23   Iris-virginica   Iris-virginica\n",
       "24   Iris-virginica   Iris-virginica\n",
       "25   Iris-virginica   Iris-virginica\n",
       "26   Iris-virginica   Iris-virginica\n",
       "27   Iris-virginica   Iris-virginica\n",
       "28      Iris-setosa      Iris-setosa\n",
       "29      Iris-setosa      Iris-setosa"
      ]
     },
     "execution_count": 21,
     "metadata": {},
     "output_type": "execute_result"
    }
   ],
   "source": [
    "df = pd.DataFrame({'Real Values':y_test, 'Predicted Values':y_pred})\n",
    "df"
   ]
  },
  {
   "cell_type": "code",
   "execution_count": 22,
   "metadata": {},
   "outputs": [
    {
     "name": "stdout",
     "output_type": "stream",
     "text": [
      "                 precision    recall  f1-score   support\n",
      "\n",
      "    Iris-setosa       1.00      1.00      1.00        10\n",
      "Iris-versicolor       1.00      1.00      1.00         9\n",
      " Iris-virginica       1.00      1.00      1.00        11\n",
      "\n",
      "       accuracy                           1.00        30\n",
      "      macro avg       1.00      1.00      1.00        30\n",
      "   weighted avg       1.00      1.00      1.00        30\n",
      "\n"
     ]
    }
   ],
   "source": [
    "from sklearn.metrics import classification_report\n",
    "\n",
    "print(classification_report(y_test, y_pred))"
   ]
  },
  {
   "cell_type": "code",
   "execution_count": 23,
   "metadata": {},
   "outputs": [],
   "source": [
    "TP_0 = cm[0,0]\n",
    "TP_1 = cm[1,1]\n",
    "TP_2 = cm[2,2]\n",
    "FN_0 = cm[0,1] + cm[0,2]\n",
    "FN_1 = cm[1,0] + cm[1,2]\n",
    "FN_2 = cm[2,0] + cm[2,1]\n",
    "FP_0 = cm[1,0] + cm[2,0]\n",
    "FP_1 = cm[0,1] + cm[2,1]\n",
    "FP_2 = cm[0,2] + cm[1,2]\n",
    "TN_0 = cm[1,1] + cm[2,1] + cm[2,2] + cm[1,2]\n",
    "TN_1 = cm[0,0] + cm[0,2] + cm[2,0] + cm[2,2]\n",
    "TN_2 = cm[0,0] + cm[0,1] + cm[1,0] + cm[1,1]"
   ]
  },
  {
   "cell_type": "code",
   "execution_count": 24,
   "metadata": {},
   "outputs": [
    {
     "name": "stdout",
     "output_type": "stream",
     "text": [
      "True positives for SETOSA, VERSICOLR, VIRGINICA: 10 9 11\n"
     ]
    }
   ],
   "source": [
    "print('True positives for SETOSA, VERSICOLR, VIRGINICA:', TP_0, TP_1, TP_2)"
   ]
  },
  {
   "cell_type": "code",
   "execution_count": 25,
   "metadata": {},
   "outputs": [
    {
     "name": "stdout",
     "output_type": "stream",
     "text": [
      "Acc of SETOSA  1.0\n",
      "Acc of VERSICOLR  1.0\n",
      "Acc of VIRGINICA  1.0\n",
      "Average accuracy: 1.0\n"
     ]
    }
   ],
   "source": [
    "acc1 = (TP_0+TN_0)/(TP_0+TN_0+FP_0+FN_0)\n",
    "print(\"Acc of SETOSA \", acc1)\n",
    "\n",
    "acc2 = (TP_1+TN_1)/(TP_1+TN_1+FP_1+FN_1)\n",
    "print(\"Acc of VERSICOLR \", acc2)\n",
    "\n",
    "acc3 = (TP_2+TN_2)/(TP_2+TN_2+FP_2+FN_2)\n",
    "print(\"Acc of VIRGINICA \", acc3)\n",
    "\n",
    "avg_acc = (acc1 + acc2 + acc3)/3\n",
    "print(\"Average accuracy:\", avg_acc)"
   ]
  },
  {
   "cell_type": "code",
   "execution_count": 26,
   "metadata": {},
   "outputs": [
    {
     "name": "stdout",
     "output_type": "stream",
     "text": [
      "Precision of SETOSA  1.0\n",
      "Precision of VERSICOLR  1.0\n",
      "Precision of VIRGINICA  1.0\n"
     ]
    }
   ],
   "source": [
    "prec1 = (TP_0)/(TP_0+FP_0)\n",
    "print(\"Precision of SETOSA \", prec1)\n",
    "\n",
    "prec2 = (TP_1)/(TP_1+FP_1)\n",
    "print(\"Precision of VERSICOLR \", prec2)\n",
    "\n",
    "prec3 = (TP_2)/(TP_2+FP_2)\n",
    "print(\"Precision of VIRGINICA \", prec3)"
   ]
  },
  {
   "cell_type": "code",
   "execution_count": 27,
   "metadata": {},
   "outputs": [
    {
     "name": "stdout",
     "output_type": "stream",
     "text": [
      "Recall of SETOSA  1.0\n",
      "Recall of VERSICOLR  1.0\n",
      "Recall of VIRGINICA  1.0\n"
     ]
    }
   ],
   "source": [
    "rec1 = (TP_0)/(TP_0+FN_0)\n",
    "print(\"Recall of SETOSA \", rec1)\n",
    "\n",
    "rec2 = (TP_1)/(TP_1+FN_1)\n",
    "print(\"Recall of VERSICOLR \", rec2)\n",
    "\n",
    "rec3 = (TP_2)/(TP_2+FN_2)\n",
    "print(\"Recall of VIRGINICA \", rec3)"
   ]
  },
  {
   "cell_type": "code",
   "execution_count": 28,
   "metadata": {},
   "outputs": [
    {
     "name": "stdout",
     "output_type": "stream",
     "text": [
      "Recall of SETOSA  1.0\n",
      "Recall of VERSICOLR  1.0\n",
      "Recall of VIRGINICA  1.0\n"
     ]
    }
   ],
   "source": [
    "f1score1 = 2*rec1*prec1/(rec1+prec1)\n",
    "print(\"Recall of SETOSA \", f1score1)\n",
    "\n",
    "f1score2 = 2*rec2*prec2/(rec2+prec2)\n",
    "print(\"Recall of VERSICOLR \", f1score2)\n",
    "\n",
    "f1score3 = 2*rec3*prec3/(rec3+prec3)\n",
    "print(\"Recall of VIRGINICA \", f1score3)"
   ]
  },
  {
   "cell_type": "code",
   "execution_count": 29,
   "metadata": {},
   "outputs": [
    {
     "name": "stdout",
     "output_type": "stream",
     "text": [
      "TP TN FP FN 30 60 0 0\n"
     ]
    }
   ],
   "source": [
    "TP = TP_0+TP_1+TP_2\n",
    "TN = TN_0+TN_1+TN_2\n",
    "FP = FP_0+FP_1+FP_2\n",
    "FN = FN_0+FN_1+FN_2\n",
    "print(\"TP TN FP FN\", TP,TN,FP,FN)"
   ]
  },
  {
   "cell_type": "code",
   "execution_count": 30,
   "metadata": {},
   "outputs": [
    {
     "name": "stdout",
     "output_type": "stream",
     "text": [
      "1.0\n"
     ]
    }
   ],
   "source": [
    "accuracy = (TP+TN)/(TP+FP+TN+FN)\n",
    "print(accuracy)"
   ]
  },
  {
   "cell_type": "code",
   "execution_count": 31,
   "metadata": {},
   "outputs": [
    {
     "name": "stdout",
     "output_type": "stream",
     "text": [
      "Precision:  1.0\n"
     ]
    }
   ],
   "source": [
    "precision = TP/(TP+FP)\n",
    "print(\"Precision: \", precision)"
   ]
  },
  {
   "cell_type": "code",
   "execution_count": 32,
   "metadata": {},
   "outputs": [
    {
     "name": "stdout",
     "output_type": "stream",
     "text": [
      "Recall:  1.0\n"
     ]
    }
   ],
   "source": [
    "recall = TP /(TP+FN)\n",
    "print(\"Recall: \",recall)"
   ]
  },
  {
   "cell_type": "code",
   "execution_count": 33,
   "metadata": {},
   "outputs": [
    {
     "name": "stdout",
     "output_type": "stream",
     "text": [
      "Error rate =  0.0\n"
     ]
    }
   ],
   "source": [
    "error_rate = (FP+FN)/(TP+TN+FP+FN)\n",
    "print(\"Error rate = \", error_rate)"
   ]
  },
  {
   "cell_type": "code",
   "execution_count": 34,
   "metadata": {},
   "outputs": [
    {
     "name": "stdout",
     "output_type": "stream",
     "text": [
      "Specificity or true negative rate :  1.0\n",
      "False positive rate :  0.0\n"
     ]
    }
   ],
   "source": [
    "# Specificity (True negative rate)\n",
    "true_neg_rate = TN/(TN+FP)\n",
    "false_pos_rate = FP/(TN+FP)\n",
    "print(\"Specificity or true negative rate : \",true_neg_rate)\n",
    "print(\"False positive rate : \",false_pos_rate)"
   ]
  },
  {
   "cell_type": "code",
   "execution_count": 35,
   "metadata": {},
   "outputs": [
    {
     "name": "stdout",
     "output_type": "stream",
     "text": [
      "F1-score:  1.0\n"
     ]
    }
   ],
   "source": [
    "f1score = 2*(precision*recall)/(precision+recall)\n",
    "print(\"F1-score: \",f1score)"
   ]
  },
  {
   "cell_type": "code",
   "execution_count": null,
   "metadata": {},
   "outputs": [],
   "source": []
  }
 ],
 "metadata": {
  "kernelspec": {
   "display_name": "Python 3 (ipykernel)",
   "language": "python",
   "name": "python3"
  },
  "language_info": {
   "codemirror_mode": {
    "name": "ipython",
    "version": 3
   },
   "file_extension": ".py",
   "mimetype": "text/x-python",
   "name": "python",
   "nbconvert_exporter": "python",
   "pygments_lexer": "ipython3",
   "version": "3.12.3"
  }
 },
 "nbformat": 4,
 "nbformat_minor": 4
}
